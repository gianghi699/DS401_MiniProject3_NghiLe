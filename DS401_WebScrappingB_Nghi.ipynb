{
 "cells": [
  {
   "cell_type": "markdown",
   "id": "3d69c1bf-1a94-4b73-b170-d37813bb9950",
   "metadata": {},
   "source": [
    "# Web Scrapping Lab\n"
   ]
  },
  {
   "cell_type": "markdown",
   "id": "0ebb4f50-849e-42f3-9ff5-a5ca7a7db0da",
   "metadata": {},
   "source": [
    "## 1. Web scrapping using Beautiful Soup"
   ]
  },
  {
   "cell_type": "markdown",
   "id": "70d5dc99-a937-444a-aa8d-6459ed8c71b8",
   "metadata": {},
   "source": [
    "Web scrapping is a practice in Data Science to extract data from webpages. In this lab, you will learn how to extract data in table forms from a webpage using Python's Beautiful Soup module."
   ]
  },
  {
   "cell_type": "markdown",
   "id": "dc9040a2-bcb0-4bed-b46a-f8e69d2ca271",
   "metadata": {},
   "source": [
    "Necessary libraries and modules to import are pandas, numpy, matplotlib, seaborn. To perform web scrapping, urllib.request library is used to open url. Beautiful soup package will extract data from an html file."
   ]
  },
  {
   "cell_type": "code",
   "execution_count": 4,
   "id": "8f9d5eb6-4012-4f86-96c1-fe9517d0cc77",
   "metadata": {},
   "outputs": [],
   "source": [
    "import pandas\n",
    "import numpy\n",
    "import matplotlib.pyplot as plt\n",
    "import seaborn as sns\n",
    "%matplotlib inline\n",
    "\n",
    "from urllib.request import urlopen\n",
    "from bs4 import BeautifulSoup\n"
   ]
  },
  {
   "cell_type": "code",
   "execution_count": 5,
   "id": "565984ca-761d-40e1-b665-d52365d2ef6b",
   "metadata": {},
   "outputs": [],
   "source": [
    "url = \"https://www.hubertiming.com/results/2017GPTR\"\n",
    "html = urlopen(url)"
   ]
  },
  {
   "cell_type": "markdown",
   "id": "4df46ef8-099c-465b-bc7e-f743d44ffc04",
   "metadata": {},
   "source": [
    "After getting the html of the web, the next step is to create an object in Python for Beautiful Soup from the html. This is done by passing the html to the BeautifulSoup() function. Then, the Beautiful Soup package will parse the html, which is taking the raw html text and break it into python objects."
   ]
  },
  {
   "cell_type": "code",
   "execution_count": 6,
   "id": "17e6053a-af93-46aa-b8aa-054ad207edc7",
   "metadata": {},
   "outputs": [
    {
     "data": {
      "text/plain": [
       "bs4.BeautifulSoup"
      ]
     },
     "execution_count": 6,
     "metadata": {},
     "output_type": "execute_result"
    }
   ],
   "source": [
    "soup = BeautifulSoup( html , 'lxml')\n",
    "type(soup)"
   ]
  },
  {
   "cell_type": "markdown",
   "id": "93a78b5e-0a3e-4e03-bfcf-d9053455209b",
   "metadata": {},
   "source": [
    "Now we can extract information from the webpage such as title, text, html tags"
   ]
  },
  {
   "cell_type": "code",
   "execution_count": 7,
   "id": "4f0c32c3-0d9c-4ef5-ab82-17d40299d7e1",
   "metadata": {},
   "outputs": [
    {
     "name": "stdout",
     "output_type": "stream",
     "text": [
      "<title>Race results for the 2017 Intel Great Place to Run \\ Urban Clash Games!</title>\n"
     ]
    }
   ],
   "source": [
    "# Get the title\n",
    "title = soup.title\n",
    "print(title)\n",
    "\n",
    "# Get the text\n",
    "text = soup.get_text()\n",
    "#print(text)"
   ]
  },
  {
   "cell_type": "markdown",
   "id": "48e2187f-0e0c-49fa-91b2-5248f2b4897d",
   "metadata": {},
   "source": [
    "You can use the find_all() method of soup to extract useful html tags within a webpage. Examples of useful tags include < a > for hyperlinks, < table > for tables, < tr > for table rows, < th > for table headers, and < td > for table cells. The code below shows how to extract all the hyperlinks within the webpage. [1]"
   ]
  },
  {
   "cell_type": "code",
   "execution_count": 8,
   "id": "61d9e686-5dc6-4a2d-b604-5ff08338eca7",
   "metadata": {},
   "outputs": [
    {
     "data": {
      "text/plain": [
       "[<a href=\"mailto:timing@hubertiming.com\">timing@hubertiming.com</a>,\n",
       " <a href=\"https://www.hubertiming.com\">Huber Timing Home</a>,\n",
       " <a class=\"btn btn-primary btn-lg\" href=\"/results/2017GPTR10K\" role=\"button\" style=\"margin: 0px 0px 5px 5px\"><i aria-hidden=\"true\" class=\"fa fa-user\"></i> 10K</a>,\n",
       " <a class=\"btn btn-primary btn-lg\" href=\"/results/summary/2017GPTR\" role=\"button\" style=\"margin: 0px 0px 5px 5px\"><i class=\"fa fa-stream\"></i> Summary</a>,\n",
       " <a id=\"individual\" name=\"individual\"></a>,\n",
       " <a data-url=\"/results/2017GPTR\" href=\"#tabs-1\" id=\"rootTab\" style=\"font-size: 18px\">5K Results</a>,\n",
       " <a href=\"https://www.hubertiming.com/\"><img height=\"65\" src=\"https://www.hubertiming.com//sites/all/themes/hubertiming/images/clockWithFinishSign_small.png\" width=\"50\"/>Huber Timing</a>,\n",
       " <a href=\"https://facebook.com/hubertiming/\"><img src=\"https://www.hubertiming.com/results/FB-f-Logo__blue_50.png\"/></a>]"
      ]
     },
     "execution_count": 8,
     "metadata": {},
     "output_type": "execute_result"
    }
   ],
   "source": [
    "soup.find_all('a')"
   ]
  },
  {
   "cell_type": "markdown",
   "id": "a4fb3b3d-4407-4601-bf33-f5e7e6082418",
   "metadata": {},
   "source": [
    "From the output above, html tags sometimes have attributes like class, src, href, etc. These attributes provide additional information about html elements."
   ]
  },
  {
   "cell_type": "markdown",
   "id": "e0e99f4f-5b74-483d-a717-230a9d83f240",
   "metadata": {},
   "source": [
    "### Exercise 1"
   ]
  },
  {
   "cell_type": "markdown",
   "id": "4ba7cf7e-e898-4d49-9135-87a53b382a2f",
   "metadata": {},
   "source": [
    "Use a loop and method get('href') to extract and print out only hyperlinks."
   ]
  },
  {
   "cell_type": "code",
   "execution_count": 9,
   "id": "bc1592dc-4eea-4992-b9b4-d7f9216ea8c7",
   "metadata": {},
   "outputs": [],
   "source": [
    "# Enter your code here"
   ]
  },
  {
   "cell_type": "code",
   "execution_count": 11,
   "id": "2350bc80-c840-4912-b013-ea4e6a27fcfe",
   "metadata": {},
   "outputs": [],
   "source": [
    "#Solution\n",
    "# all_links = soup.find_all('a')\n",
    "# for link in all_links:\n",
    "#     print(link.get('href'))"
   ]
  },
  {
   "cell_type": "markdown",
   "id": "8f1102a9-acff-4ec5-885f-e6d59099ee87",
   "metadata": {},
   "source": [
    "Now, we will try print out table rows only. Remember from the examples of useful tags in find_all() method, < tr > stands for table rows. Pass the 'tr' attribute to soup.find_all()."
   ]
  },
  {
   "cell_type": "code",
   "execution_count": 12,
   "id": "9e60e585-e50f-4697-8ec9-a9d83e158da7",
   "metadata": {},
   "outputs": [
    {
     "name": "stdout",
     "output_type": "stream",
     "text": [
      "[<tr colspan=\"2\">\n",
      "<b>5K:</b>\n",
      "</tr>, <tr>\n",
      "<td>Finishers:</td>\n",
      "<td>1458</td>\n",
      "</tr>, <tr>\n",
      "<td>Male:</td>\n",
      "<td>771</td>\n",
      "</tr>, <tr>\n",
      "<td>Female:</td>\n",
      "<td>687</td>\n",
      "</tr>, <tr class=\"header\">\n",
      "<th>Place</th>\n",
      "<th>Bib</th>\n",
      "<th>Name</th>\n",
      "<th>Gender</th>\n",
      "<th>City</th>\n",
      "<th>State</th>\n",
      "<th>Time</th>\n",
      "<th>Gun Time</th>\n",
      "</tr>, <tr data-bib=\"2320\">\n",
      "<td>1</td>\n",
      "<td>2320</td>\n",
      "<td>\n",
      "\n",
      "                    DANIEL M HINCKLEY\n",
      "\n",
      "                </td>\n",
      "<td>M</td>\n",
      "<td>HILLSBORO</td>\n",
      "<td>OR</td>\n",
      "<td>16:42</td>\n",
      "<td>16:44</td>\n",
      "</tr>, <tr data-bib=\"2335\">\n",
      "<td>2</td>\n",
      "<td>2335</td>\n",
      "<td>\n",
      "\n",
      "                    KORY F GRAY\n",
      "\n",
      "                </td>\n",
      "<td>M</td>\n",
      "<td>HILLSBORO</td>\n",
      "<td>OR</td>\n",
      "<td>17:34</td>\n",
      "<td>17:35</td>\n",
      "</tr>, <tr data-bib=\"1770\">\n",
      "<td>3</td>\n",
      "<td>1770</td>\n",
      "<td>\n",
      "\n",
      "                    FILIP SCHMOLE\n",
      "\n",
      "                </td>\n",
      "<td>M</td>\n",
      "<td>PORTLAND</td>\n",
      "<td>OR</td>\n",
      "<td>18:13</td>\n",
      "<td>18:14</td>\n",
      "</tr>, <tr data-bib=\"2584\">\n",
      "<td>4</td>\n",
      "<td>2584</td>\n",
      "<td>\n",
      "\n",
      "                    TRENTON C ROLLING\n",
      "\n",
      "                </td>\n",
      "<td>M</td>\n",
      "<td>PORTLAND</td>\n",
      "<td>OR</td>\n",
      "<td>18:32</td>\n",
      "<td>18:35</td>\n",
      "</tr>, <tr data-bib=\"2688\">\n",
      "<td>5</td>\n",
      "<td>2688</td>\n",
      "<td>\n",
      "\n",
      "                    YEAN-AN LIAO\n",
      "\n",
      "                </td>\n",
      "<td>M</td>\n",
      "<td>HILLSBORO</td>\n",
      "<td>OR</td>\n",
      "<td>19:12</td>\n",
      "<td>19:18</td>\n",
      "</tr>]\n"
     ]
    }
   ],
   "source": [
    "rows = soup.find_all('tr')\n",
    "print(rows[:10])"
   ]
  },
  {
   "cell_type": "markdown",
   "id": "257153e9-61ac-4fdf-8477-df678262b9ac",
   "metadata": {},
   "source": [
    "The goal of this lab is to take a table from a webpage and convert it into a dataframe for easier manipulation using Python. To get there, you should get all table rows in list form first and then convert that list into a dataframe."
   ]
  },
  {
   "cell_type": "markdown",
   "id": "f8f00f99-b5e6-4aed-a743-188658300f4d",
   "metadata": {},
   "source": [
    "### Exercise 2"
   ]
  },
  {
   "cell_type": "markdown",
   "id": "56a71511-8ab2-487d-8372-39d0108c0081",
   "metadata": {},
   "source": [
    "Use a loop and method find_all('td'), which is the html tag \"sandwiching\" our observation in each cell of the row, to create a list of table cells (td) of the rows."
   ]
  },
  {
   "cell_type": "code",
   "execution_count": 13,
   "id": "fd08e779-cd81-4c56-acb4-75405311ee07",
   "metadata": {},
   "outputs": [],
   "source": [
    "# Enter your code here"
   ]
  },
  {
   "cell_type": "code",
   "execution_count": 16,
   "id": "ef9b2275-1db1-48a2-b973-4cf35fb6c5ee",
   "metadata": {},
   "outputs": [],
   "source": [
    "# Solution\n",
    "# for row in rows:\n",
    "#     cell = row.find_all('td')\n",
    "# print(cell)\n",
    "# type(cell)"
   ]
  },
  {
   "cell_type": "markdown",
   "id": "668fadf0-ba78-4bdd-a554-6d7839b13cc6",
   "metadata": {},
   "source": [
    "The output from your solution above shows that each row is printed with html tags embedded in each row. This is not what you want. You can use remove the html tags using Beautiful Soup or regualr expressions (regex).\n",
    "\n",
    "The easiest way to remove html tags is to use Beautiful Soup, and it takes just one line of code to do it. Pass the string of interest into BeautifulSoup() and use the get_text() method to extract the text without html tags."
   ]
  },
  {
   "cell_type": "code",
   "execution_count": 18,
   "id": "747a757f-6bd8-4c28-81a4-af2677aa3eb8",
   "metadata": {},
   "outputs": [
    {
     "name": "stdout",
     "output_type": "stream",
     "text": [
      "[1458, 1400, \n",
      "\n",
      "                    SUMALATHA PURMA\n",
      "\n",
      "                , F, PORTLAND, OR, 1:48:13, 1:48:13]\n"
     ]
    }
   ],
   "source": [
    "str_cells = str(cell)\n",
    "clean_text = BeautifulSoup(str_cells, 'lxml').get_text()\n",
    "print(clean_text)"
   ]
  },
  {
   "cell_type": "markdown",
   "id": "4322fcc2-e447-4878-8717-3348c5f841f8",
   "metadata": {},
   "source": [
    "# 2. Regular Expression (Regex)"
   ]
  },
  {
   "cell_type": "markdown",
   "id": "56a72ae7-ff29-42e1-b48b-ae4e31fde0ef",
   "metadata": {},
   "source": [
    "This method is also used to extract text without html tags, but it is highly discouraged because it's easy to make mistakes. Regular expression requires importing the re module. "
   ]
  },
  {
   "cell_type": "code",
   "execution_count": 19,
   "id": "9b9cf95e-014f-4046-b483-22f2583db665",
   "metadata": {},
   "outputs": [
    {
     "name": "stdout",
     "output_type": "stream",
     "text": [
      "[1458, 1400, \n",
      "\n",
      "                    SUMALATHA PURMA\n",
      "\n",
      "                , F, PORTLAND, OR, 1:48:13, 1:48:13]\n"
     ]
    },
    {
     "data": {
      "text/plain": [
       "str"
      ]
     },
     "execution_count": 19,
     "metadata": {},
     "output_type": "execute_result"
    }
   ],
   "source": [
    "import re\n",
    "\n",
    "list_rows = []\n",
    "for row in rows:\n",
    "    cells = row.find_all('td')                  #make a list of cells in row\n",
    "    str_cells = str(cells)                      #convert them into string type\n",
    "    clean = re.compile('<.*?>')                 #compile a regular expression by passing a string to match to re.compile. The '.*?' will match an opening angle bracket followed by anything and by a closing angle bracket.\n",
    "    clean2 = (re.sub(clean, '',str_cells))      #after compile a regular expression, re.sub() method finds all the substrings where regular expression mathches and replace them with an empty string.\n",
    "    list_rows.append(clean2)\n",
    "print(clean2)\n",
    "type(clean2)\n"
   ]
  },
  {
   "cell_type": "code",
   "execution_count": 20,
   "id": "f0bd6c02-059e-4296-852b-b20b71f269dc",
   "metadata": {},
   "outputs": [
    {
     "name": "stdout",
     "output_type": "stream",
     "text": [
      "re.compile('<.*?>')\n"
     ]
    }
   ],
   "source": [
    "print(clean)"
   ]
  },
  {
   "cell_type": "code",
   "execution_count": 23,
   "id": "6201eef5-19e9-4e60-b3ee-416901813c4b",
   "metadata": {},
   "outputs": [],
   "source": [
    "# print(list_rows)"
   ]
  },
  {
   "cell_type": "markdown",
   "id": "ec7ab457-ece3-4814-8ce6-a937b05babfb",
   "metadata": {},
   "source": [
    "Next, we will convert the list into a dataframe and get a quick view of the first 10 rows using Panda "
   ]
  },
  {
   "cell_type": "code",
   "execution_count": 25,
   "id": "b94f4ccf-b359-4a40-aa0a-2e6932f154c2",
   "metadata": {},
   "outputs": [
    {
     "data": {
      "text/html": [
       "<div>\n",
       "<style scoped>\n",
       "    .dataframe tbody tr th:only-of-type {\n",
       "        vertical-align: middle;\n",
       "    }\n",
       "\n",
       "    .dataframe tbody tr th {\n",
       "        vertical-align: top;\n",
       "    }\n",
       "\n",
       "    .dataframe thead th {\n",
       "        text-align: right;\n",
       "    }\n",
       "</style>\n",
       "<table border=\"1\" class=\"dataframe\">\n",
       "  <thead>\n",
       "    <tr style=\"text-align: right;\">\n",
       "      <th></th>\n",
       "      <th>0</th>\n",
       "    </tr>\n",
       "  </thead>\n",
       "  <tbody>\n",
       "    <tr>\n",
       "      <th>0</th>\n",
       "      <td>[]</td>\n",
       "    </tr>\n",
       "    <tr>\n",
       "      <th>1</th>\n",
       "      <td>[Finishers:, 1458]</td>\n",
       "    </tr>\n",
       "    <tr>\n",
       "      <th>2</th>\n",
       "      <td>[Male:, 771]</td>\n",
       "    </tr>\n",
       "    <tr>\n",
       "      <th>3</th>\n",
       "      <td>[Female:, 687]</td>\n",
       "    </tr>\n",
       "    <tr>\n",
       "      <th>4</th>\n",
       "      <td>[]</td>\n",
       "    </tr>\n",
       "    <tr>\n",
       "      <th>5</th>\n",
       "      <td>[1, 2320, \\r\\n\\r\\n                    DANIEL M...</td>\n",
       "    </tr>\n",
       "    <tr>\n",
       "      <th>6</th>\n",
       "      <td>[2, 2335, \\r\\n\\r\\n                    KORY F G...</td>\n",
       "    </tr>\n",
       "    <tr>\n",
       "      <th>7</th>\n",
       "      <td>[3, 1770, \\r\\n\\r\\n                    FILIP SC...</td>\n",
       "    </tr>\n",
       "    <tr>\n",
       "      <th>8</th>\n",
       "      <td>[4, 2584, \\r\\n\\r\\n                    TRENTON ...</td>\n",
       "    </tr>\n",
       "    <tr>\n",
       "      <th>9</th>\n",
       "      <td>[5, 2688, \\r\\n\\r\\n                    YEAN-AN ...</td>\n",
       "    </tr>\n",
       "  </tbody>\n",
       "</table>\n",
       "</div>"
      ],
      "text/plain": [
       "                                                   0\n",
       "0                                                 []\n",
       "1                                 [Finishers:, 1458]\n",
       "2                                       [Male:, 771]\n",
       "3                                     [Female:, 687]\n",
       "4                                                 []\n",
       "5  [1, 2320, \\r\\n\\r\\n                    DANIEL M...\n",
       "6  [2, 2335, \\r\\n\\r\\n                    KORY F G...\n",
       "7  [3, 1770, \\r\\n\\r\\n                    FILIP SC...\n",
       "8  [4, 2584, \\r\\n\\r\\n                    TRENTON ...\n",
       "9  [5, 2688, \\r\\n\\r\\n                    YEAN-AN ..."
      ]
     },
     "execution_count": 25,
     "metadata": {},
     "output_type": "execute_result"
    }
   ],
   "source": [
    "df = pandas.DataFrame(list_rows)\n",
    "df.head(10)"
   ]
  },
  {
   "cell_type": "markdown",
   "id": "6e84ea01-9967-452d-a4d6-0e8cdb27c81f",
   "metadata": {},
   "source": [
    "## 3. Data Manipulation and Cleaning"
   ]
  },
  {
   "cell_type": "markdown",
   "id": "d67b0156-7170-45d8-8178-471888542beb",
   "metadata": {},
   "source": [
    "The dataframe is not in the format we want. To clean it up, we will split the \"0\" column into multiple columns at the comma position, using str.split() method."
   ]
  },
  {
   "cell_type": "code",
   "execution_count": 26,
   "id": "ec4d12a7-2125-4a6b-a8cd-400e578cf3ce",
   "metadata": {},
   "outputs": [
    {
     "data": {
      "text/html": [
       "<div>\n",
       "<style scoped>\n",
       "    .dataframe tbody tr th:only-of-type {\n",
       "        vertical-align: middle;\n",
       "    }\n",
       "\n",
       "    .dataframe tbody tr th {\n",
       "        vertical-align: top;\n",
       "    }\n",
       "\n",
       "    .dataframe thead th {\n",
       "        text-align: right;\n",
       "    }\n",
       "</style>\n",
       "<table border=\"1\" class=\"dataframe\">\n",
       "  <thead>\n",
       "    <tr style=\"text-align: right;\">\n",
       "      <th></th>\n",
       "      <th>0</th>\n",
       "      <th>1</th>\n",
       "      <th>2</th>\n",
       "      <th>3</th>\n",
       "      <th>4</th>\n",
       "      <th>5</th>\n",
       "      <th>6</th>\n",
       "      <th>7</th>\n",
       "    </tr>\n",
       "  </thead>\n",
       "  <tbody>\n",
       "    <tr>\n",
       "      <th>0</th>\n",
       "      <td>[]</td>\n",
       "      <td>None</td>\n",
       "      <td>None</td>\n",
       "      <td>None</td>\n",
       "      <td>None</td>\n",
       "      <td>None</td>\n",
       "      <td>None</td>\n",
       "      <td>None</td>\n",
       "    </tr>\n",
       "    <tr>\n",
       "      <th>1</th>\n",
       "      <td>[Finishers:</td>\n",
       "      <td>1458]</td>\n",
       "      <td>None</td>\n",
       "      <td>None</td>\n",
       "      <td>None</td>\n",
       "      <td>None</td>\n",
       "      <td>None</td>\n",
       "      <td>None</td>\n",
       "    </tr>\n",
       "    <tr>\n",
       "      <th>2</th>\n",
       "      <td>[Male:</td>\n",
       "      <td>771]</td>\n",
       "      <td>None</td>\n",
       "      <td>None</td>\n",
       "      <td>None</td>\n",
       "      <td>None</td>\n",
       "      <td>None</td>\n",
       "      <td>None</td>\n",
       "    </tr>\n",
       "    <tr>\n",
       "      <th>3</th>\n",
       "      <td>[Female:</td>\n",
       "      <td>687]</td>\n",
       "      <td>None</td>\n",
       "      <td>None</td>\n",
       "      <td>None</td>\n",
       "      <td>None</td>\n",
       "      <td>None</td>\n",
       "      <td>None</td>\n",
       "    </tr>\n",
       "    <tr>\n",
       "      <th>4</th>\n",
       "      <td>[]</td>\n",
       "      <td>None</td>\n",
       "      <td>None</td>\n",
       "      <td>None</td>\n",
       "      <td>None</td>\n",
       "      <td>None</td>\n",
       "      <td>None</td>\n",
       "      <td>None</td>\n",
       "    </tr>\n",
       "    <tr>\n",
       "      <th>5</th>\n",
       "      <td>[1</td>\n",
       "      <td>2320</td>\n",
       "      <td>\\r\\n\\r\\n                    DANIEL M HINCKLEY...</td>\n",
       "      <td>M</td>\n",
       "      <td>HILLSBORO</td>\n",
       "      <td>OR</td>\n",
       "      <td>16:42</td>\n",
       "      <td>16:44]</td>\n",
       "    </tr>\n",
       "    <tr>\n",
       "      <th>6</th>\n",
       "      <td>[2</td>\n",
       "      <td>2335</td>\n",
       "      <td>\\r\\n\\r\\n                    KORY F GRAY\\r\\n\\r...</td>\n",
       "      <td>M</td>\n",
       "      <td>HILLSBORO</td>\n",
       "      <td>OR</td>\n",
       "      <td>17:34</td>\n",
       "      <td>17:35]</td>\n",
       "    </tr>\n",
       "    <tr>\n",
       "      <th>7</th>\n",
       "      <td>[3</td>\n",
       "      <td>1770</td>\n",
       "      <td>\\r\\n\\r\\n                    FILIP SCHMOLE\\r\\n...</td>\n",
       "      <td>M</td>\n",
       "      <td>PORTLAND</td>\n",
       "      <td>OR</td>\n",
       "      <td>18:13</td>\n",
       "      <td>18:14]</td>\n",
       "    </tr>\n",
       "    <tr>\n",
       "      <th>8</th>\n",
       "      <td>[4</td>\n",
       "      <td>2584</td>\n",
       "      <td>\\r\\n\\r\\n                    TRENTON C ROLLING...</td>\n",
       "      <td>M</td>\n",
       "      <td>PORTLAND</td>\n",
       "      <td>OR</td>\n",
       "      <td>18:32</td>\n",
       "      <td>18:35]</td>\n",
       "    </tr>\n",
       "    <tr>\n",
       "      <th>9</th>\n",
       "      <td>[5</td>\n",
       "      <td>2688</td>\n",
       "      <td>\\r\\n\\r\\n                    YEAN-AN LIAO\\r\\n\\...</td>\n",
       "      <td>M</td>\n",
       "      <td>HILLSBORO</td>\n",
       "      <td>OR</td>\n",
       "      <td>19:12</td>\n",
       "      <td>19:18]</td>\n",
       "    </tr>\n",
       "  </tbody>\n",
       "</table>\n",
       "</div>"
      ],
      "text/plain": [
       "             0       1                                                  2  \\\n",
       "0           []    None                                               None   \n",
       "1  [Finishers:   1458]                                               None   \n",
       "2       [Male:    771]                                               None   \n",
       "3     [Female:    687]                                               None   \n",
       "4           []    None                                               None   \n",
       "5           [1    2320   \\r\\n\\r\\n                    DANIEL M HINCKLEY...   \n",
       "6           [2    2335   \\r\\n\\r\\n                    KORY F GRAY\\r\\n\\r...   \n",
       "7           [3    1770   \\r\\n\\r\\n                    FILIP SCHMOLE\\r\\n...   \n",
       "8           [4    2584   \\r\\n\\r\\n                    TRENTON C ROLLING...   \n",
       "9           [5    2688   \\r\\n\\r\\n                    YEAN-AN LIAO\\r\\n\\...   \n",
       "\n",
       "      3           4     5       6        7  \n",
       "0  None        None  None    None     None  \n",
       "1  None        None  None    None     None  \n",
       "2  None        None  None    None     None  \n",
       "3  None        None  None    None     None  \n",
       "4  None        None  None    None     None  \n",
       "5     M   HILLSBORO    OR   16:42   16:44]  \n",
       "6     M   HILLSBORO    OR   17:34   17:35]  \n",
       "7     M    PORTLAND    OR   18:13   18:14]  \n",
       "8     M    PORTLAND    OR   18:32   18:35]  \n",
       "9     M   HILLSBORO    OR   19:12   19:18]  "
      ]
     },
     "execution_count": 26,
     "metadata": {},
     "output_type": "execute_result"
    }
   ],
   "source": [
    "df1 = df[0].str.split(',', expand = True)\n",
    "df1.head(10)"
   ]
  },
  {
   "cell_type": "markdown",
   "id": "66ddf0bb-c594-4298-8058-f65844eab4c6",
   "metadata": {},
   "source": [
    "The table is missing headers. You can get all table headers by passing argument 'th' into find_all() method. Then, get rid of the html tag by doing similarly to table rows."
   ]
  },
  {
   "cell_type": "code",
   "execution_count": 29,
   "id": "9e52994e-eb2c-453a-85d4-4d126553c127",
   "metadata": {},
   "outputs": [
    {
     "name": "stdout",
     "output_type": "stream",
     "text": [
      "[<th>Place</th>, <th>Bib</th>, <th>Name</th>, <th>Gender</th>, <th>City</th>, <th>State</th>, <th>Time</th>, <th>Gun Time</th>]\n"
     ]
    }
   ],
   "source": [
    "table_headers = soup.find_all('th')\n",
    "print(table_headers)"
   ]
  },
  {
   "cell_type": "code",
   "execution_count": 30,
   "id": "1742f8dc-c116-4ba7-9f5c-1ceec4d0e06e",
   "metadata": {},
   "outputs": [
    {
     "name": "stdout",
     "output_type": "stream",
     "text": [
      "['[Place, Bib, Name, Gender, City, State, Time, Gun Time]']\n"
     ]
    }
   ],
   "source": [
    "headers = []\n",
    "str_header = str(table_headers)\n",
    "cleantext2 = BeautifulSoup(str_header, 'lxml').get_text()\n",
    "headers.append(cleantext2)\n",
    "print(headers)"
   ]
  },
  {
   "cell_type": "markdown",
   "id": "825e49ee-6d8b-4df5-8259-2b6bd3b2ac75",
   "metadata": {},
   "source": [
    "You can then convert the list of headers into a pandas dataframe."
   ]
  },
  {
   "cell_type": "code",
   "execution_count": 31,
   "id": "90d52d90-2b11-483d-8c48-060f85c34bb2",
   "metadata": {},
   "outputs": [
    {
     "data": {
      "text/html": [
       "<div>\n",
       "<style scoped>\n",
       "    .dataframe tbody tr th:only-of-type {\n",
       "        vertical-align: middle;\n",
       "    }\n",
       "\n",
       "    .dataframe tbody tr th {\n",
       "        vertical-align: top;\n",
       "    }\n",
       "\n",
       "    .dataframe thead th {\n",
       "        text-align: right;\n",
       "    }\n",
       "</style>\n",
       "<table border=\"1\" class=\"dataframe\">\n",
       "  <thead>\n",
       "    <tr style=\"text-align: right;\">\n",
       "      <th></th>\n",
       "      <th>0</th>\n",
       "    </tr>\n",
       "  </thead>\n",
       "  <tbody>\n",
       "    <tr>\n",
       "      <th>0</th>\n",
       "      <td>[Place, Bib, Name, Gender, City, State, Time, ...</td>\n",
       "    </tr>\n",
       "  </tbody>\n",
       "</table>\n",
       "</div>"
      ],
      "text/plain": [
       "                                                   0\n",
       "0  [Place, Bib, Name, Gender, City, State, Time, ..."
      ]
     },
     "execution_count": 31,
     "metadata": {},
     "output_type": "execute_result"
    }
   ],
   "source": [
    "df2 = pandas.DataFrame(headers)\n",
    "df2.head()"
   ]
  },
  {
   "cell_type": "code",
   "execution_count": 32,
   "id": "c12f8994-282a-44a0-8589-ada30f1fc301",
   "metadata": {},
   "outputs": [
    {
     "data": {
      "text/html": [
       "<div>\n",
       "<style scoped>\n",
       "    .dataframe tbody tr th:only-of-type {\n",
       "        vertical-align: middle;\n",
       "    }\n",
       "\n",
       "    .dataframe tbody tr th {\n",
       "        vertical-align: top;\n",
       "    }\n",
       "\n",
       "    .dataframe thead th {\n",
       "        text-align: right;\n",
       "    }\n",
       "</style>\n",
       "<table border=\"1\" class=\"dataframe\">\n",
       "  <thead>\n",
       "    <tr style=\"text-align: right;\">\n",
       "      <th></th>\n",
       "      <th>0</th>\n",
       "      <th>1</th>\n",
       "      <th>2</th>\n",
       "      <th>3</th>\n",
       "      <th>4</th>\n",
       "      <th>5</th>\n",
       "      <th>6</th>\n",
       "      <th>7</th>\n",
       "    </tr>\n",
       "  </thead>\n",
       "  <tbody>\n",
       "    <tr>\n",
       "      <th>0</th>\n",
       "      <td>[Place</td>\n",
       "      <td>Bib</td>\n",
       "      <td>Name</td>\n",
       "      <td>Gender</td>\n",
       "      <td>City</td>\n",
       "      <td>State</td>\n",
       "      <td>Time</td>\n",
       "      <td>Gun Time]</td>\n",
       "    </tr>\n",
       "  </tbody>\n",
       "</table>\n",
       "</div>"
      ],
      "text/plain": [
       "        0     1      2        3      4       5      6           7\n",
       "0  [Place   Bib   Name   Gender   City   State   Time   Gun Time]"
      ]
     },
     "execution_count": 32,
     "metadata": {},
     "output_type": "execute_result"
    }
   ],
   "source": [
    "df3 = df2[0].str.split(',', expand = True)\n",
    "df3.head()"
   ]
  },
  {
   "cell_type": "markdown",
   "id": "1e580bd7-59f7-4f51-b656-621bf3cfd86b",
   "metadata": {},
   "source": [
    "The 2 dataframes can be converted into one using the concat() method."
   ]
  },
  {
   "cell_type": "code",
   "execution_count": 33,
   "id": "7f9a9e9a-bfac-4773-af19-c38402deda3f",
   "metadata": {},
   "outputs": [
    {
     "data": {
      "text/html": [
       "<div>\n",
       "<style scoped>\n",
       "    .dataframe tbody tr th:only-of-type {\n",
       "        vertical-align: middle;\n",
       "    }\n",
       "\n",
       "    .dataframe tbody tr th {\n",
       "        vertical-align: top;\n",
       "    }\n",
       "\n",
       "    .dataframe thead th {\n",
       "        text-align: right;\n",
       "    }\n",
       "</style>\n",
       "<table border=\"1\" class=\"dataframe\">\n",
       "  <thead>\n",
       "    <tr style=\"text-align: right;\">\n",
       "      <th></th>\n",
       "      <th>0</th>\n",
       "      <th>1</th>\n",
       "      <th>2</th>\n",
       "      <th>3</th>\n",
       "      <th>4</th>\n",
       "      <th>5</th>\n",
       "      <th>6</th>\n",
       "      <th>7</th>\n",
       "    </tr>\n",
       "  </thead>\n",
       "  <tbody>\n",
       "    <tr>\n",
       "      <th>0</th>\n",
       "      <td>[Place</td>\n",
       "      <td>Bib</td>\n",
       "      <td>Name</td>\n",
       "      <td>Gender</td>\n",
       "      <td>City</td>\n",
       "      <td>State</td>\n",
       "      <td>Time</td>\n",
       "      <td>Gun Time]</td>\n",
       "    </tr>\n",
       "    <tr>\n",
       "      <th>0</th>\n",
       "      <td>[]</td>\n",
       "      <td>None</td>\n",
       "      <td>None</td>\n",
       "      <td>None</td>\n",
       "      <td>None</td>\n",
       "      <td>None</td>\n",
       "      <td>None</td>\n",
       "      <td>None</td>\n",
       "    </tr>\n",
       "    <tr>\n",
       "      <th>1</th>\n",
       "      <td>[Finishers:</td>\n",
       "      <td>1458]</td>\n",
       "      <td>None</td>\n",
       "      <td>None</td>\n",
       "      <td>None</td>\n",
       "      <td>None</td>\n",
       "      <td>None</td>\n",
       "      <td>None</td>\n",
       "    </tr>\n",
       "    <tr>\n",
       "      <th>2</th>\n",
       "      <td>[Male:</td>\n",
       "      <td>771]</td>\n",
       "      <td>None</td>\n",
       "      <td>None</td>\n",
       "      <td>None</td>\n",
       "      <td>None</td>\n",
       "      <td>None</td>\n",
       "      <td>None</td>\n",
       "    </tr>\n",
       "    <tr>\n",
       "      <th>3</th>\n",
       "      <td>[Female:</td>\n",
       "      <td>687]</td>\n",
       "      <td>None</td>\n",
       "      <td>None</td>\n",
       "      <td>None</td>\n",
       "      <td>None</td>\n",
       "      <td>None</td>\n",
       "      <td>None</td>\n",
       "    </tr>\n",
       "    <tr>\n",
       "      <th>4</th>\n",
       "      <td>[]</td>\n",
       "      <td>None</td>\n",
       "      <td>None</td>\n",
       "      <td>None</td>\n",
       "      <td>None</td>\n",
       "      <td>None</td>\n",
       "      <td>None</td>\n",
       "      <td>None</td>\n",
       "    </tr>\n",
       "    <tr>\n",
       "      <th>5</th>\n",
       "      <td>[1</td>\n",
       "      <td>2320</td>\n",
       "      <td>\\r\\n\\r\\n                    DANIEL M HINCKLEY...</td>\n",
       "      <td>M</td>\n",
       "      <td>HILLSBORO</td>\n",
       "      <td>OR</td>\n",
       "      <td>16:42</td>\n",
       "      <td>16:44]</td>\n",
       "    </tr>\n",
       "    <tr>\n",
       "      <th>6</th>\n",
       "      <td>[2</td>\n",
       "      <td>2335</td>\n",
       "      <td>\\r\\n\\r\\n                    KORY F GRAY\\r\\n\\r...</td>\n",
       "      <td>M</td>\n",
       "      <td>HILLSBORO</td>\n",
       "      <td>OR</td>\n",
       "      <td>17:34</td>\n",
       "      <td>17:35]</td>\n",
       "    </tr>\n",
       "    <tr>\n",
       "      <th>7</th>\n",
       "      <td>[3</td>\n",
       "      <td>1770</td>\n",
       "      <td>\\r\\n\\r\\n                    FILIP SCHMOLE\\r\\n...</td>\n",
       "      <td>M</td>\n",
       "      <td>PORTLAND</td>\n",
       "      <td>OR</td>\n",
       "      <td>18:13</td>\n",
       "      <td>18:14]</td>\n",
       "    </tr>\n",
       "    <tr>\n",
       "      <th>8</th>\n",
       "      <td>[4</td>\n",
       "      <td>2584</td>\n",
       "      <td>\\r\\n\\r\\n                    TRENTON C ROLLING...</td>\n",
       "      <td>M</td>\n",
       "      <td>PORTLAND</td>\n",
       "      <td>OR</td>\n",
       "      <td>18:32</td>\n",
       "      <td>18:35]</td>\n",
       "    </tr>\n",
       "  </tbody>\n",
       "</table>\n",
       "</div>"
      ],
      "text/plain": [
       "             0       1                                                  2  \\\n",
       "0       [Place     Bib                                               Name   \n",
       "0           []    None                                               None   \n",
       "1  [Finishers:   1458]                                               None   \n",
       "2       [Male:    771]                                               None   \n",
       "3     [Female:    687]                                               None   \n",
       "4           []    None                                               None   \n",
       "5           [1    2320   \\r\\n\\r\\n                    DANIEL M HINCKLEY...   \n",
       "6           [2    2335   \\r\\n\\r\\n                    KORY F GRAY\\r\\n\\r...   \n",
       "7           [3    1770   \\r\\n\\r\\n                    FILIP SCHMOLE\\r\\n...   \n",
       "8           [4    2584   \\r\\n\\r\\n                    TRENTON C ROLLING...   \n",
       "\n",
       "         3           4       5       6           7  \n",
       "0   Gender        City   State    Time   Gun Time]  \n",
       "0     None        None    None    None        None  \n",
       "1     None        None    None    None        None  \n",
       "2     None        None    None    None        None  \n",
       "3     None        None    None    None        None  \n",
       "4     None        None    None    None        None  \n",
       "5        M   HILLSBORO      OR   16:42      16:44]  \n",
       "6        M   HILLSBORO      OR   17:34      17:35]  \n",
       "7        M    PORTLAND      OR   18:13      18:14]  \n",
       "8        M    PORTLAND      OR   18:32      18:35]  "
      ]
     },
     "execution_count": 33,
     "metadata": {},
     "output_type": "execute_result"
    }
   ],
   "source": [
    "frames = [df3, df1]\n",
    "df4 = pandas.concat(frames)\n",
    "df4.head(10)"
   ]
  },
  {
   "cell_type": "markdown",
   "id": "7f3be793-2b5c-4525-b22b-1ea67c49fec8",
   "metadata": {},
   "source": [
    "Assign the first row to be the table header."
   ]
  },
  {
   "cell_type": "code",
   "execution_count": 35,
   "id": "bd03b70a-8ab1-4bb7-9135-541a7dcfe180",
   "metadata": {},
   "outputs": [
    {
     "data": {
      "text/html": [
       "<div>\n",
       "<style scoped>\n",
       "    .dataframe tbody tr th:only-of-type {\n",
       "        vertical-align: middle;\n",
       "    }\n",
       "\n",
       "    .dataframe tbody tr th {\n",
       "        vertical-align: top;\n",
       "    }\n",
       "\n",
       "    .dataframe thead th {\n",
       "        text-align: right;\n",
       "    }\n",
       "</style>\n",
       "<table border=\"1\" class=\"dataframe\">\n",
       "  <thead>\n",
       "    <tr style=\"text-align: right;\">\n",
       "      <th></th>\n",
       "      <th>[Place</th>\n",
       "      <th>Bib</th>\n",
       "      <th>Name</th>\n",
       "      <th>Gender</th>\n",
       "      <th>City</th>\n",
       "      <th>State</th>\n",
       "      <th>Time</th>\n",
       "      <th>Gun Time]</th>\n",
       "    </tr>\n",
       "  </thead>\n",
       "  <tbody>\n",
       "    <tr>\n",
       "      <th>0</th>\n",
       "      <td>[Place</td>\n",
       "      <td>Bib</td>\n",
       "      <td>Name</td>\n",
       "      <td>Gender</td>\n",
       "      <td>City</td>\n",
       "      <td>State</td>\n",
       "      <td>Time</td>\n",
       "      <td>Gun Time]</td>\n",
       "    </tr>\n",
       "    <tr>\n",
       "      <th>0</th>\n",
       "      <td>[]</td>\n",
       "      <td>None</td>\n",
       "      <td>None</td>\n",
       "      <td>None</td>\n",
       "      <td>None</td>\n",
       "      <td>None</td>\n",
       "      <td>None</td>\n",
       "      <td>None</td>\n",
       "    </tr>\n",
       "    <tr>\n",
       "      <th>1</th>\n",
       "      <td>[Finishers:</td>\n",
       "      <td>1458]</td>\n",
       "      <td>None</td>\n",
       "      <td>None</td>\n",
       "      <td>None</td>\n",
       "      <td>None</td>\n",
       "      <td>None</td>\n",
       "      <td>None</td>\n",
       "    </tr>\n",
       "    <tr>\n",
       "      <th>2</th>\n",
       "      <td>[Male:</td>\n",
       "      <td>771]</td>\n",
       "      <td>None</td>\n",
       "      <td>None</td>\n",
       "      <td>None</td>\n",
       "      <td>None</td>\n",
       "      <td>None</td>\n",
       "      <td>None</td>\n",
       "    </tr>\n",
       "    <tr>\n",
       "      <th>3</th>\n",
       "      <td>[Female:</td>\n",
       "      <td>687]</td>\n",
       "      <td>None</td>\n",
       "      <td>None</td>\n",
       "      <td>None</td>\n",
       "      <td>None</td>\n",
       "      <td>None</td>\n",
       "      <td>None</td>\n",
       "    </tr>\n",
       "  </tbody>\n",
       "</table>\n",
       "</div>"
      ],
      "text/plain": [
       "        [Place     Bib   Name   Gender   City   State   Time   Gun Time]\n",
       "0       [Place     Bib   Name   Gender   City   State   Time   Gun Time]\n",
       "0           []    None   None     None   None    None   None        None\n",
       "1  [Finishers:   1458]   None     None   None    None   None        None\n",
       "2       [Male:    771]   None     None   None    None   None        None\n",
       "3     [Female:    687]   None     None   None    None   None        None"
      ]
     },
     "execution_count": 35,
     "metadata": {},
     "output_type": "execute_result"
    }
   ],
   "source": [
    "df5 = df4.rename(columns=df4.iloc[0])\n",
    "df5.head()"
   ]
  },
  {
   "cell_type": "markdown",
   "id": "b9b2a637-bec9-4e09-bee6-41b7d7ee58d7",
   "metadata": {},
   "source": [
    "At this point, the table is almost preperly formatted. For analysis, you can start by getting an overview of the data as shown below."
   ]
  },
  {
   "cell_type": "code",
   "execution_count": 36,
   "id": "a0f4561d-785b-4b22-9068-a1de0fd6023c",
   "metadata": {},
   "outputs": [
    {
     "name": "stdout",
     "output_type": "stream",
     "text": [
      "<class 'pandas.core.frame.DataFrame'>\n",
      "Index: 1464 entries, 0 to 1462\n",
      "Data columns (total 8 columns):\n",
      " #   Column      Non-Null Count  Dtype \n",
      "---  ------      --------------  ----- \n",
      " 0   [Place      1464 non-null   object\n",
      " 1    Bib        1462 non-null   object\n",
      " 2    Name       1459 non-null   object\n",
      " 3    Gender     1459 non-null   object\n",
      " 4    City       1459 non-null   object\n",
      " 5    State      1459 non-null   object\n",
      " 6    Time       1459 non-null   object\n",
      " 7    Gun Time]  1459 non-null   object\n",
      "dtypes: object(8)\n",
      "memory usage: 102.9+ KB\n"
     ]
    },
    {
     "data": {
      "text/plain": [
       "(1464, 8)"
      ]
     },
     "execution_count": 36,
     "metadata": {},
     "output_type": "execute_result"
    }
   ],
   "source": [
    "df5.info()\n",
    "df5.shape"
   ]
  },
  {
   "cell_type": "markdown",
   "id": "d5896ff0-0132-4328-abc2-1d1e83633900",
   "metadata": {},
   "source": [
    "The table has 1464 rows and 8 columns. You can drop all rows with missing values by using dropna()."
   ]
  },
  {
   "cell_type": "code",
   "execution_count": 37,
   "id": "fec9cdb8-cb0f-4cf2-92b3-3c70b7966bd1",
   "metadata": {},
   "outputs": [],
   "source": [
    "df6 = df5.dropna(axis=0, how='any')"
   ]
  },
  {
   "cell_type": "code",
   "execution_count": 38,
   "id": "109417cb-2ed2-4b49-bcdb-b788e3020373",
   "metadata": {},
   "outputs": [
    {
     "name": "stdout",
     "output_type": "stream",
     "text": [
      "<class 'pandas.core.frame.DataFrame'>\n",
      "Index: 1464 entries, 0 to 1462\n",
      "Data columns (total 8 columns):\n",
      " #   Column      Non-Null Count  Dtype \n",
      "---  ------      --------------  ----- \n",
      " 0   [Place      1464 non-null   object\n",
      " 1    Bib        1462 non-null   object\n",
      " 2    Name       1459 non-null   object\n",
      " 3    Gender     1459 non-null   object\n",
      " 4    City       1459 non-null   object\n",
      " 5    State      1459 non-null   object\n",
      " 6    Time       1459 non-null   object\n",
      " 7    Gun Time]  1459 non-null   object\n",
      "dtypes: object(8)\n",
      "memory usage: 102.9+ KB\n"
     ]
    }
   ],
   "source": [
    "df5.info()"
   ]
  },
  {
   "cell_type": "markdown",
   "id": "7192bb35-b768-42d4-8ceb-60da394e28bd",
   "metadata": {},
   "source": [
    "Now we will remove the duplicate headers by also using drop()."
   ]
  },
  {
   "cell_type": "code",
   "execution_count": 39,
   "id": "1e351b50-004f-45bf-bc42-20aaf9b0f409",
   "metadata": {},
   "outputs": [
    {
     "data": {
      "text/html": [
       "<div>\n",
       "<style scoped>\n",
       "    .dataframe tbody tr th:only-of-type {\n",
       "        vertical-align: middle;\n",
       "    }\n",
       "\n",
       "    .dataframe tbody tr th {\n",
       "        vertical-align: top;\n",
       "    }\n",
       "\n",
       "    .dataframe thead th {\n",
       "        text-align: right;\n",
       "    }\n",
       "</style>\n",
       "<table border=\"1\" class=\"dataframe\">\n",
       "  <thead>\n",
       "    <tr style=\"text-align: right;\">\n",
       "      <th></th>\n",
       "      <th>[Place</th>\n",
       "      <th>Bib</th>\n",
       "      <th>Name</th>\n",
       "      <th>Gender</th>\n",
       "      <th>City</th>\n",
       "      <th>State</th>\n",
       "      <th>Time</th>\n",
       "      <th>Gun Time]</th>\n",
       "    </tr>\n",
       "  </thead>\n",
       "  <tbody>\n",
       "    <tr>\n",
       "      <th>5</th>\n",
       "      <td>[1</td>\n",
       "      <td>2320</td>\n",
       "      <td>\\r\\n\\r\\n                    DANIEL M HINCKLEY...</td>\n",
       "      <td>M</td>\n",
       "      <td>HILLSBORO</td>\n",
       "      <td>OR</td>\n",
       "      <td>16:42</td>\n",
       "      <td>16:44]</td>\n",
       "    </tr>\n",
       "    <tr>\n",
       "      <th>6</th>\n",
       "      <td>[2</td>\n",
       "      <td>2335</td>\n",
       "      <td>\\r\\n\\r\\n                    KORY F GRAY\\r\\n\\r...</td>\n",
       "      <td>M</td>\n",
       "      <td>HILLSBORO</td>\n",
       "      <td>OR</td>\n",
       "      <td>17:34</td>\n",
       "      <td>17:35]</td>\n",
       "    </tr>\n",
       "    <tr>\n",
       "      <th>7</th>\n",
       "      <td>[3</td>\n",
       "      <td>1770</td>\n",
       "      <td>\\r\\n\\r\\n                    FILIP SCHMOLE\\r\\n...</td>\n",
       "      <td>M</td>\n",
       "      <td>PORTLAND</td>\n",
       "      <td>OR</td>\n",
       "      <td>18:13</td>\n",
       "      <td>18:14]</td>\n",
       "    </tr>\n",
       "    <tr>\n",
       "      <th>8</th>\n",
       "      <td>[4</td>\n",
       "      <td>2584</td>\n",
       "      <td>\\r\\n\\r\\n                    TRENTON C ROLLING...</td>\n",
       "      <td>M</td>\n",
       "      <td>PORTLAND</td>\n",
       "      <td>OR</td>\n",
       "      <td>18:32</td>\n",
       "      <td>18:35]</td>\n",
       "    </tr>\n",
       "    <tr>\n",
       "      <th>9</th>\n",
       "      <td>[5</td>\n",
       "      <td>2688</td>\n",
       "      <td>\\r\\n\\r\\n                    YEAN-AN LIAO\\r\\n\\...</td>\n",
       "      <td>M</td>\n",
       "      <td>HILLSBORO</td>\n",
       "      <td>OR</td>\n",
       "      <td>19:12</td>\n",
       "      <td>19:18]</td>\n",
       "    </tr>\n",
       "  </tbody>\n",
       "</table>\n",
       "</div>"
      ],
      "text/plain": [
       "  [Place    Bib                                               Name  Gender  \\\n",
       "5     [1   2320   \\r\\n\\r\\n                    DANIEL M HINCKLEY...       M   \n",
       "6     [2   2335   \\r\\n\\r\\n                    KORY F GRAY\\r\\n\\r...       M   \n",
       "7     [3   1770   \\r\\n\\r\\n                    FILIP SCHMOLE\\r\\n...       M   \n",
       "8     [4   2584   \\r\\n\\r\\n                    TRENTON C ROLLING...       M   \n",
       "9     [5   2688   \\r\\n\\r\\n                    YEAN-AN LIAO\\r\\n\\...       M   \n",
       "\n",
       "         City  State    Time  Gun Time]  \n",
       "5   HILLSBORO     OR   16:42     16:44]  \n",
       "6   HILLSBORO     OR   17:34     17:35]  \n",
       "7    PORTLAND     OR   18:13     18:14]  \n",
       "8    PORTLAND     OR   18:32     18:35]  \n",
       "9   HILLSBORO     OR   19:12     19:18]  "
      ]
     },
     "execution_count": 39,
     "metadata": {},
     "output_type": "execute_result"
    }
   ],
   "source": [
    "df7 = df6.drop(df6.index[0])\n",
    "df7.head()"
   ]
  },
  {
   "cell_type": "markdown",
   "id": "e34ff4de-db79-4482-ab2d-5c3c9a1bfeca",
   "metadata": {},
   "source": [
    "The final step is to clean the '[' and ']' in column headers Place and Time, as well as in their columns cells using rename() and str.strip() methods."
   ]
  },
  {
   "cell_type": "code",
   "execution_count": 54,
   "id": "a548438a-fce9-4420-a293-b0d4e2f0961b",
   "metadata": {},
   "outputs": [
    {
     "data": {
      "text/html": [
       "<div>\n",
       "<style scoped>\n",
       "    .dataframe tbody tr th:only-of-type {\n",
       "        vertical-align: middle;\n",
       "    }\n",
       "\n",
       "    .dataframe tbody tr th {\n",
       "        vertical-align: top;\n",
       "    }\n",
       "\n",
       "    .dataframe thead th {\n",
       "        text-align: right;\n",
       "    }\n",
       "</style>\n",
       "<table border=\"1\" class=\"dataframe\">\n",
       "  <thead>\n",
       "    <tr style=\"text-align: right;\">\n",
       "      <th></th>\n",
       "      <th>Place</th>\n",
       "      <th>Bib</th>\n",
       "      <th>Name</th>\n",
       "      <th>Gender</th>\n",
       "      <th>City</th>\n",
       "      <th>State</th>\n",
       "      <th>Time</th>\n",
       "      <th>Gun Time</th>\n",
       "    </tr>\n",
       "  </thead>\n",
       "  <tbody>\n",
       "    <tr>\n",
       "      <th>5</th>\n",
       "      <td>1</td>\n",
       "      <td>2320</td>\n",
       "      <td>\\r\\n\\r\\n                    DANIEL M HINCKLEY...</td>\n",
       "      <td>M</td>\n",
       "      <td>HILLSBORO</td>\n",
       "      <td>OR</td>\n",
       "      <td>16:42</td>\n",
       "      <td>16:44</td>\n",
       "    </tr>\n",
       "    <tr>\n",
       "      <th>6</th>\n",
       "      <td>2</td>\n",
       "      <td>2335</td>\n",
       "      <td>\\r\\n\\r\\n                    KORY F GRAY\\r\\n\\r...</td>\n",
       "      <td>M</td>\n",
       "      <td>HILLSBORO</td>\n",
       "      <td>OR</td>\n",
       "      <td>17:34</td>\n",
       "      <td>17:35</td>\n",
       "    </tr>\n",
       "    <tr>\n",
       "      <th>7</th>\n",
       "      <td>3</td>\n",
       "      <td>1770</td>\n",
       "      <td>\\r\\n\\r\\n                    FILIP SCHMOLE\\r\\n...</td>\n",
       "      <td>M</td>\n",
       "      <td>PORTLAND</td>\n",
       "      <td>OR</td>\n",
       "      <td>18:13</td>\n",
       "      <td>18:14</td>\n",
       "    </tr>\n",
       "    <tr>\n",
       "      <th>8</th>\n",
       "      <td>4</td>\n",
       "      <td>2584</td>\n",
       "      <td>\\r\\n\\r\\n                    TRENTON C ROLLING...</td>\n",
       "      <td>M</td>\n",
       "      <td>PORTLAND</td>\n",
       "      <td>OR</td>\n",
       "      <td>18:32</td>\n",
       "      <td>18:35</td>\n",
       "    </tr>\n",
       "    <tr>\n",
       "      <th>9</th>\n",
       "      <td>5</td>\n",
       "      <td>2688</td>\n",
       "      <td>\\r\\n\\r\\n                    YEAN-AN LIAO\\r\\n\\...</td>\n",
       "      <td>M</td>\n",
       "      <td>HILLSBORO</td>\n",
       "      <td>OR</td>\n",
       "      <td>19:12</td>\n",
       "      <td>19:18</td>\n",
       "    </tr>\n",
       "  </tbody>\n",
       "</table>\n",
       "</div>"
      ],
      "text/plain": [
       "  Place    Bib                                               Name  Gender  \\\n",
       "5     1   2320   \\r\\n\\r\\n                    DANIEL M HINCKLEY...       M   \n",
       "6     2   2335   \\r\\n\\r\\n                    KORY F GRAY\\r\\n\\r...       M   \n",
       "7     3   1770   \\r\\n\\r\\n                    FILIP SCHMOLE\\r\\n...       M   \n",
       "8     4   2584   \\r\\n\\r\\n                    TRENTON C ROLLING...       M   \n",
       "9     5   2688   \\r\\n\\r\\n                    YEAN-AN LIAO\\r\\n\\...       M   \n",
       "\n",
       "         City  State    Time Gun Time  \n",
       "5   HILLSBORO     OR   16:42    16:44  \n",
       "6   HILLSBORO     OR   17:34    17:35  \n",
       "7    PORTLAND     OR   18:13    18:14  \n",
       "8    PORTLAND     OR   18:32    18:35  \n",
       "9   HILLSBORO     OR   19:12    19:18  "
      ]
     },
     "execution_count": 54,
     "metadata": {},
     "output_type": "execute_result"
    }
   ],
   "source": [
    "df7.rename(columns={'[Place': 'Place'}, inplace = True)\n",
    "df7.rename(columns={' Gun Time]': 'Gun Time'}, inplace = True)  #make sure to include a space before the quotation mark in 'Team]'.\n",
    "df7.head()\n"
   ]
  },
  {
   "cell_type": "code",
   "execution_count": 55,
   "id": "501544ce-e8fd-42c1-950d-b5a28e308416",
   "metadata": {},
   "outputs": [
    {
     "data": {
      "text/html": [
       "<div>\n",
       "<style scoped>\n",
       "    .dataframe tbody tr th:only-of-type {\n",
       "        vertical-align: middle;\n",
       "    }\n",
       "\n",
       "    .dataframe tbody tr th {\n",
       "        vertical-align: top;\n",
       "    }\n",
       "\n",
       "    .dataframe thead th {\n",
       "        text-align: right;\n",
       "    }\n",
       "</style>\n",
       "<table border=\"1\" class=\"dataframe\">\n",
       "  <thead>\n",
       "    <tr style=\"text-align: right;\">\n",
       "      <th></th>\n",
       "      <th>Place</th>\n",
       "      <th>Bib</th>\n",
       "      <th>Name</th>\n",
       "      <th>Gender</th>\n",
       "      <th>City</th>\n",
       "      <th>State</th>\n",
       "      <th>Time</th>\n",
       "      <th>Gun Time</th>\n",
       "    </tr>\n",
       "  </thead>\n",
       "  <tbody>\n",
       "    <tr>\n",
       "      <th>5</th>\n",
       "      <td>1</td>\n",
       "      <td>2320</td>\n",
       "      <td>\\r\\n\\r\\n                    DANIEL M HINCKLEY...</td>\n",
       "      <td>M</td>\n",
       "      <td>HILLSBORO</td>\n",
       "      <td>OR</td>\n",
       "      <td>16:42</td>\n",
       "      <td>16:44</td>\n",
       "    </tr>\n",
       "    <tr>\n",
       "      <th>6</th>\n",
       "      <td>2</td>\n",
       "      <td>2335</td>\n",
       "      <td>\\r\\n\\r\\n                    KORY F GRAY\\r\\n\\r...</td>\n",
       "      <td>M</td>\n",
       "      <td>HILLSBORO</td>\n",
       "      <td>OR</td>\n",
       "      <td>17:34</td>\n",
       "      <td>17:35</td>\n",
       "    </tr>\n",
       "    <tr>\n",
       "      <th>7</th>\n",
       "      <td>3</td>\n",
       "      <td>1770</td>\n",
       "      <td>\\r\\n\\r\\n                    FILIP SCHMOLE\\r\\n...</td>\n",
       "      <td>M</td>\n",
       "      <td>PORTLAND</td>\n",
       "      <td>OR</td>\n",
       "      <td>18:13</td>\n",
       "      <td>18:14</td>\n",
       "    </tr>\n",
       "    <tr>\n",
       "      <th>8</th>\n",
       "      <td>4</td>\n",
       "      <td>2584</td>\n",
       "      <td>\\r\\n\\r\\n                    TRENTON C ROLLING...</td>\n",
       "      <td>M</td>\n",
       "      <td>PORTLAND</td>\n",
       "      <td>OR</td>\n",
       "      <td>18:32</td>\n",
       "      <td>18:35</td>\n",
       "    </tr>\n",
       "    <tr>\n",
       "      <th>9</th>\n",
       "      <td>5</td>\n",
       "      <td>2688</td>\n",
       "      <td>\\r\\n\\r\\n                    YEAN-AN LIAO\\r\\n\\...</td>\n",
       "      <td>M</td>\n",
       "      <td>HILLSBORO</td>\n",
       "      <td>OR</td>\n",
       "      <td>19:12</td>\n",
       "      <td>19:18</td>\n",
       "    </tr>\n",
       "  </tbody>\n",
       "</table>\n",
       "</div>"
      ],
      "text/plain": [
       "  Place    Bib                                               Name  Gender  \\\n",
       "5     1   2320   \\r\\n\\r\\n                    DANIEL M HINCKLEY...       M   \n",
       "6     2   2335   \\r\\n\\r\\n                    KORY F GRAY\\r\\n\\r...       M   \n",
       "7     3   1770   \\r\\n\\r\\n                    FILIP SCHMOLE\\r\\n...       M   \n",
       "8     4   2584   \\r\\n\\r\\n                    TRENTON C ROLLING...       M   \n",
       "9     5   2688   \\r\\n\\r\\n                    YEAN-AN LIAO\\r\\n\\...       M   \n",
       "\n",
       "         City  State    Time Gun Time  \n",
       "5   HILLSBORO     OR   16:42    16:44  \n",
       "6   HILLSBORO     OR   17:34    17:35  \n",
       "7    PORTLAND     OR   18:13    18:14  \n",
       "8    PORTLAND     OR   18:32    18:35  \n",
       "9   HILLSBORO     OR   19:12    19:18  "
      ]
     },
     "execution_count": 55,
     "metadata": {},
     "output_type": "execute_result"
    }
   ],
   "source": [
    "df7['Gun Time'] = df7['Gun Time'].str.strip(']')\n",
    "df7.head()"
   ]
  },
  {
   "cell_type": "code",
   "execution_count": null,
   "id": "7ced7d88-9333-4247-8a4f-85d8cab2efe7",
   "metadata": {},
   "outputs": [],
   "source": []
  }
 ],
 "metadata": {
  "kernelspec": {
   "display_name": "Python 3 (ipykernel)",
   "language": "python",
   "name": "python3"
  },
  "language_info": {
   "codemirror_mode": {
    "name": "ipython",
    "version": 3
   },
   "file_extension": ".py",
   "mimetype": "text/x-python",
   "name": "python",
   "nbconvert_exporter": "python",
   "pygments_lexer": "ipython3",
   "version": "3.11.8"
  }
 },
 "nbformat": 4,
 "nbformat_minor": 5
}
