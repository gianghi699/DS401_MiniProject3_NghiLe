{
 "cells": [
  {
   "cell_type": "markdown",
   "id": "eb53f552-1632-40e6-a970-09a5c9d86c6a",
   "metadata": {},
   "source": [
    "## WEB SCRAPPING"
   ]
  },
  {
   "cell_type": "code",
   "execution_count": 1,
   "id": "e61d31bb-9ad0-41db-bc27-62f66e02ff60",
   "metadata": {},
   "outputs": [],
   "source": [
    "import pandas as pd\n",
    "import numpy as np\n",
    "import matplotlib.pyplot as plt\n",
    "import seaborn as sns\n",
    "%matplotlib inline\n"
   ]
  },
  {
   "cell_type": "code",
   "execution_count": 2,
   "id": "ce26894f-ef0d-44a1-aa4e-3c56e572d56c",
   "metadata": {},
   "outputs": [],
   "source": [
    "from urllib.request import urlopen\n",
    "from bs4 import BeautifulSoup\n"
   ]
  },
  {
   "cell_type": "code",
   "execution_count": 10,
   "id": "74e1f60f-5196-4a3e-8a37-41fa5d852971",
   "metadata": {},
   "outputs": [],
   "source": [
    "url = \"https://www.hubertiming.com/results/2017GPTR\"\n",
    "html = urlopen(url)"
   ]
  },
  {
   "cell_type": "code",
   "execution_count": 11,
   "id": "e6b62088-f2a7-46ed-8630-6c9d8ca8464c",
   "metadata": {},
   "outputs": [
    {
     "data": {
      "text/plain": [
       "bs4.BeautifulSoup"
      ]
     },
     "execution_count": 11,
     "metadata": {},
     "output_type": "execute_result"
    }
   ],
   "source": [
    "soup = BeautifulSoup(html, 'lxml')\n",
    "type(soup)\n"
   ]
  },
  {
   "cell_type": "code",
   "execution_count": 12,
   "id": "8ef43bf9-4269-423b-87ad-6e77cf812854",
   "metadata": {},
   "outputs": [
    {
     "name": "stdout",
     "output_type": "stream",
     "text": [
      "<title>Race results for the 2017 Intel Great Place to Run \\ Urban Clash Games!</title>\n"
     ]
    }
   ],
   "source": [
    "# Get the title\n",
    "title = soup.title\n",
    "print(title)"
   ]
  },
  {
   "cell_type": "code",
   "execution_count": 15,
   "id": "9029fa49-ead7-44c5-9b2e-d446d04dbbea",
   "metadata": {},
   "outputs": [],
   "source": [
    "# Print out the text\n",
    "text = soup.get_text()\n",
    "#print(soup.text)\n"
   ]
  },
  {
   "cell_type": "code",
   "execution_count": 16,
   "id": "31a10b2e-3b32-4f07-8e70-9dce939452cb",
   "metadata": {},
   "outputs": [
    {
     "data": {
      "text/plain": [
       "[<a href=\"mailto:timing@hubertiming.com\">timing@hubertiming.com</a>,\n",
       " <a href=\"https://www.hubertiming.com\">Huber Timing Home</a>,\n",
       " <a class=\"btn btn-primary btn-lg\" href=\"/results/2017GPTR10K\" role=\"button\" style=\"margin: 0px 0px 5px 5px\"><i aria-hidden=\"true\" class=\"fa fa-user\"></i> 10K</a>,\n",
       " <a class=\"btn btn-primary btn-lg\" href=\"/results/summary/2017GPTR\" role=\"button\" style=\"margin: 0px 0px 5px 5px\"><i class=\"fa fa-stream\"></i> Summary</a>,\n",
       " <a id=\"individual\" name=\"individual\"></a>,\n",
       " <a data-url=\"/results/2017GPTR\" href=\"#tabs-1\" id=\"rootTab\" style=\"font-size: 18px\">5K Results</a>,\n",
       " <a href=\"https://www.hubertiming.com/\"><img height=\"65\" src=\"https://www.hubertiming.com//sites/all/themes/hubertiming/images/clockWithFinishSign_small.png\" width=\"50\"/>Huber Timing</a>,\n",
       " <a href=\"https://facebook.com/hubertiming/\"><img src=\"https://www.hubertiming.com/results/FB-f-Logo__blue_50.png\"/></a>]"
      ]
     },
     "execution_count": 16,
     "metadata": {},
     "output_type": "execute_result"
    }
   ],
   "source": [
    "# Find all hyperlinks\n",
    "soup.find_all('a')"
   ]
  },
  {
   "cell_type": "markdown",
   "id": "648c3c8c-04cb-4b09-952e-c98836869267",
   "metadata": {},
   "source": [
    "# Exercise 1: extract and only print out hyperlinks without attributes like class,src,etc."
   ]
  },
  {
   "cell_type": "code",
   "execution_count": 17,
   "id": "fdb72219-2979-4978-ae33-39c5a60e5087",
   "metadata": {},
   "outputs": [
    {
     "name": "stdout",
     "output_type": "stream",
     "text": [
      "mailto:timing@hubertiming.com\n",
      "https://www.hubertiming.com\n",
      "/results/2017GPTR10K\n",
      "/results/summary/2017GPTR\n",
      "None\n",
      "#tabs-1\n",
      "https://www.hubertiming.com/\n",
      "https://facebook.com/hubertiming/\n"
     ]
    }
   ],
   "source": [
    "all_links = soup.find_all('a')\n",
    "for link in all_links:\n",
    "    print(link.get('href'))"
   ]
  },
  {
   "cell_type": "code",
   "execution_count": 18,
   "id": "88156d23-b72e-4cf6-b20b-28b2840194d8",
   "metadata": {},
   "outputs": [
    {
     "name": "stdout",
     "output_type": "stream",
     "text": [
      "[<tr colspan=\"2\">\n",
      "<b>5K:</b>\n",
      "</tr>, <tr>\n",
      "<td>Finishers:</td>\n",
      "<td>1458</td>\n",
      "</tr>, <tr>\n",
      "<td>Male:</td>\n",
      "<td>771</td>\n",
      "</tr>, <tr>\n",
      "<td>Female:</td>\n",
      "<td>687</td>\n",
      "</tr>, <tr class=\"header\">\n",
      "<th>Place</th>\n",
      "<th>Bib</th>\n",
      "<th>Name</th>\n",
      "<th>Gender</th>\n",
      "<th>City</th>\n",
      "<th>State</th>\n",
      "<th>Time</th>\n",
      "<th>Gun Time</th>\n",
      "</tr>, <tr data-bib=\"2320\">\n",
      "<td>1</td>\n",
      "<td>2320</td>\n",
      "<td>\n",
      "\n",
      "                    DANIEL M HINCKLEY\n",
      "\n",
      "                </td>\n",
      "<td>M</td>\n",
      "<td>HILLSBORO</td>\n",
      "<td>OR</td>\n",
      "<td>16:42</td>\n",
      "<td>16:44</td>\n",
      "</tr>, <tr data-bib=\"2335\">\n",
      "<td>2</td>\n",
      "<td>2335</td>\n",
      "<td>\n",
      "\n",
      "                    KORY F GRAY\n",
      "\n",
      "                </td>\n",
      "<td>M</td>\n",
      "<td>HILLSBORO</td>\n",
      "<td>OR</td>\n",
      "<td>17:34</td>\n",
      "<td>17:35</td>\n",
      "</tr>, <tr data-bib=\"1770\">\n",
      "<td>3</td>\n",
      "<td>1770</td>\n",
      "<td>\n",
      "\n",
      "                    FILIP SCHMOLE\n",
      "\n",
      "                </td>\n",
      "<td>M</td>\n",
      "<td>PORTLAND</td>\n",
      "<td>OR</td>\n",
      "<td>18:13</td>\n",
      "<td>18:14</td>\n",
      "</tr>, <tr data-bib=\"2584\">\n",
      "<td>4</td>\n",
      "<td>2584</td>\n",
      "<td>\n",
      "\n",
      "                    TRENTON C ROLLING\n",
      "\n",
      "                </td>\n",
      "<td>M</td>\n",
      "<td>PORTLAND</td>\n",
      "<td>OR</td>\n",
      "<td>18:32</td>\n",
      "<td>18:35</td>\n",
      "</tr>, <tr data-bib=\"2688\">\n",
      "<td>5</td>\n",
      "<td>2688</td>\n",
      "<td>\n",
      "\n",
      "                    YEAN-AN LIAO\n",
      "\n",
      "                </td>\n",
      "<td>M</td>\n",
      "<td>HILLSBORO</td>\n",
      "<td>OR</td>\n",
      "<td>19:12</td>\n",
      "<td>19:18</td>\n",
      "</tr>]\n"
     ]
    }
   ],
   "source": [
    "# Print the first 10 rows for sanity check\n",
    "rows = soup.find_all('tr')\n",
    "print(rows[:10])\n"
   ]
  },
  {
   "cell_type": "code",
   "execution_count": 19,
   "id": "0d9c952e-80b0-43e2-8192-f6829e44c813",
   "metadata": {},
   "outputs": [
    {
     "name": "stdout",
     "output_type": "stream",
     "text": [
      "[<td>1458</td>, <td>1400</td>, <td>\n",
      "\n",
      "                    SUMALATHA PURMA\n",
      "\n",
      "                </td>, <td>F</td>, <td>PORTLAND</td>, <td>OR</td>, <td>1:48:13</td>, <td>1:48:13</td>]\n"
     ]
    }
   ],
   "source": [
    "# Print all the cells\n",
    "for row in rows:\n",
    "    row_td = row.find_all('td')\n",
    "print(row_td)"
   ]
  },
  {
   "cell_type": "code",
   "execution_count": 24,
   "id": "9a71e4fd-618a-4b94-b133-33d2ca82126b",
   "metadata": {},
   "outputs": [
    {
     "name": "stdout",
     "output_type": "stream",
     "text": [
      "[1458, 1400, \n",
      "\n",
      "                    SUMALATHA PURMA\n",
      "\n",
      "                , F, PORTLAND, OR, 1:48:13, 1:48:13]\n"
     ]
    }
   ],
   "source": [
    "# Print all cells in rows without html tags\n",
    "str_cells = str(row_td)\n",
    "cell_text = BeautifulSoup(str_cells, 'lxml').get_text()\n",
    "print(cell_text)"
   ]
  },
  {
   "cell_type": "markdown",
   "id": "ecfba165-69c8-450f-a3f1-47288d111ed6",
   "metadata": {},
   "source": [
    "# REGULAR EXPRESSIONS"
   ]
  },
  {
   "cell_type": "code",
   "execution_count": 25,
   "id": "ad888cbf-0768-4000-87a9-6a4e45253829",
   "metadata": {},
   "outputs": [
    {
     "name": "stdout",
     "output_type": "stream",
     "text": [
      "[1458, 1400, \n",
      "\n",
      "                    SUMALATHA PURMA\n",
      "\n",
      "                , F, PORTLAND, OR, 1:48:13, 1:48:13]\n"
     ]
    },
    {
     "data": {
      "text/plain": [
       "str"
      ]
     },
     "execution_count": 25,
     "metadata": {},
     "output_type": "execute_result"
    }
   ],
   "source": [
    "import re\n",
    "\n",
    "list_rows = []\n",
    "for row in rows:\n",
    "    cells = row.find_all('td')\n",
    "    str_cells = str(cells)\n",
    "    clean = re.compile('<.*?>')\n",
    "    clean2 = (re.sub(clean, '',str_cells))\n",
    "    list_rows.append(clean2)\n",
    "print(clean2)\n",
    "type(clean2)"
   ]
  },
  {
   "cell_type": "markdown",
   "id": "abc23afb-2677-498f-9c7e-d58b75d23e6b",
   "metadata": {},
   "source": [
    "# DATA MANIPULATING AND CLEANING"
   ]
  },
  {
   "cell_type": "code",
   "execution_count": 28,
   "id": "54cb5d82-0a11-4784-824a-87efec391043",
   "metadata": {},
   "outputs": [
    {
     "data": {
      "text/html": [
       "<div>\n",
       "<style scoped>\n",
       "    .dataframe tbody tr th:only-of-type {\n",
       "        vertical-align: middle;\n",
       "    }\n",
       "\n",
       "    .dataframe tbody tr th {\n",
       "        vertical-align: top;\n",
       "    }\n",
       "\n",
       "    .dataframe thead th {\n",
       "        text-align: right;\n",
       "    }\n",
       "</style>\n",
       "<table border=\"1\" class=\"dataframe\">\n",
       "  <thead>\n",
       "    <tr style=\"text-align: right;\">\n",
       "      <th></th>\n",
       "      <th>0</th>\n",
       "    </tr>\n",
       "  </thead>\n",
       "  <tbody>\n",
       "    <tr>\n",
       "      <th>0</th>\n",
       "      <td>[]</td>\n",
       "    </tr>\n",
       "    <tr>\n",
       "      <th>1</th>\n",
       "      <td>[Finishers:, 1458]</td>\n",
       "    </tr>\n",
       "    <tr>\n",
       "      <th>2</th>\n",
       "      <td>[Male:, 771]</td>\n",
       "    </tr>\n",
       "    <tr>\n",
       "      <th>3</th>\n",
       "      <td>[Female:, 687]</td>\n",
       "    </tr>\n",
       "    <tr>\n",
       "      <th>4</th>\n",
       "      <td>[]</td>\n",
       "    </tr>\n",
       "    <tr>\n",
       "      <th>5</th>\n",
       "      <td>[1, 2320, \\r\\n\\r\\n                    DANIEL M...</td>\n",
       "    </tr>\n",
       "    <tr>\n",
       "      <th>6</th>\n",
       "      <td>[2, 2335, \\r\\n\\r\\n                    KORY F G...</td>\n",
       "    </tr>\n",
       "    <tr>\n",
       "      <th>7</th>\n",
       "      <td>[3, 1770, \\r\\n\\r\\n                    FILIP SC...</td>\n",
       "    </tr>\n",
       "    <tr>\n",
       "      <th>8</th>\n",
       "      <td>[4, 2584, \\r\\n\\r\\n                    TRENTON ...</td>\n",
       "    </tr>\n",
       "    <tr>\n",
       "      <th>9</th>\n",
       "      <td>[5, 2688, \\r\\n\\r\\n                    YEAN-AN ...</td>\n",
       "    </tr>\n",
       "  </tbody>\n",
       "</table>\n",
       "</div>"
      ],
      "text/plain": [
       "                                                   0\n",
       "0                                                 []\n",
       "1                                 [Finishers:, 1458]\n",
       "2                                       [Male:, 771]\n",
       "3                                     [Female:, 687]\n",
       "4                                                 []\n",
       "5  [1, 2320, \\r\\n\\r\\n                    DANIEL M...\n",
       "6  [2, 2335, \\r\\n\\r\\n                    KORY F G...\n",
       "7  [3, 1770, \\r\\n\\r\\n                    FILIP SC...\n",
       "8  [4, 2584, \\r\\n\\r\\n                    TRENTON ...\n",
       "9  [5, 2688, \\r\\n\\r\\n                    YEAN-AN ..."
      ]
     },
     "execution_count": 28,
     "metadata": {},
     "output_type": "execute_result"
    }
   ],
   "source": [
    "# Convert the list into a dataframe\n",
    "df = pd.DataFrame(list_rows)\n",
    "df.head(10)"
   ]
  },
  {
   "cell_type": "code",
   "execution_count": 29,
   "id": "eef3ccd5-bbc2-4e18-b062-c2a5a4c9d09d",
   "metadata": {},
   "outputs": [
    {
     "data": {
      "text/html": [
       "<div>\n",
       "<style scoped>\n",
       "    .dataframe tbody tr th:only-of-type {\n",
       "        vertical-align: middle;\n",
       "    }\n",
       "\n",
       "    .dataframe tbody tr th {\n",
       "        vertical-align: top;\n",
       "    }\n",
       "\n",
       "    .dataframe thead th {\n",
       "        text-align: right;\n",
       "    }\n",
       "</style>\n",
       "<table border=\"1\" class=\"dataframe\">\n",
       "  <thead>\n",
       "    <tr style=\"text-align: right;\">\n",
       "      <th></th>\n",
       "      <th>0</th>\n",
       "      <th>1</th>\n",
       "      <th>2</th>\n",
       "      <th>3</th>\n",
       "      <th>4</th>\n",
       "      <th>5</th>\n",
       "      <th>6</th>\n",
       "      <th>7</th>\n",
       "    </tr>\n",
       "  </thead>\n",
       "  <tbody>\n",
       "    <tr>\n",
       "      <th>0</th>\n",
       "      <td>[]</td>\n",
       "      <td>None</td>\n",
       "      <td>None</td>\n",
       "      <td>None</td>\n",
       "      <td>None</td>\n",
       "      <td>None</td>\n",
       "      <td>None</td>\n",
       "      <td>None</td>\n",
       "    </tr>\n",
       "    <tr>\n",
       "      <th>1</th>\n",
       "      <td>[Finishers:</td>\n",
       "      <td>1458]</td>\n",
       "      <td>None</td>\n",
       "      <td>None</td>\n",
       "      <td>None</td>\n",
       "      <td>None</td>\n",
       "      <td>None</td>\n",
       "      <td>None</td>\n",
       "    </tr>\n",
       "    <tr>\n",
       "      <th>2</th>\n",
       "      <td>[Male:</td>\n",
       "      <td>771]</td>\n",
       "      <td>None</td>\n",
       "      <td>None</td>\n",
       "      <td>None</td>\n",
       "      <td>None</td>\n",
       "      <td>None</td>\n",
       "      <td>None</td>\n",
       "    </tr>\n",
       "    <tr>\n",
       "      <th>3</th>\n",
       "      <td>[Female:</td>\n",
       "      <td>687]</td>\n",
       "      <td>None</td>\n",
       "      <td>None</td>\n",
       "      <td>None</td>\n",
       "      <td>None</td>\n",
       "      <td>None</td>\n",
       "      <td>None</td>\n",
       "    </tr>\n",
       "    <tr>\n",
       "      <th>4</th>\n",
       "      <td>[]</td>\n",
       "      <td>None</td>\n",
       "      <td>None</td>\n",
       "      <td>None</td>\n",
       "      <td>None</td>\n",
       "      <td>None</td>\n",
       "      <td>None</td>\n",
       "      <td>None</td>\n",
       "    </tr>\n",
       "    <tr>\n",
       "      <th>5</th>\n",
       "      <td>[1</td>\n",
       "      <td>2320</td>\n",
       "      <td>\\r\\n\\r\\n                    DANIEL M HINCKLEY...</td>\n",
       "      <td>M</td>\n",
       "      <td>HILLSBORO</td>\n",
       "      <td>OR</td>\n",
       "      <td>16:42</td>\n",
       "      <td>16:44]</td>\n",
       "    </tr>\n",
       "    <tr>\n",
       "      <th>6</th>\n",
       "      <td>[2</td>\n",
       "      <td>2335</td>\n",
       "      <td>\\r\\n\\r\\n                    KORY F GRAY\\r\\n\\r...</td>\n",
       "      <td>M</td>\n",
       "      <td>HILLSBORO</td>\n",
       "      <td>OR</td>\n",
       "      <td>17:34</td>\n",
       "      <td>17:35]</td>\n",
       "    </tr>\n",
       "    <tr>\n",
       "      <th>7</th>\n",
       "      <td>[3</td>\n",
       "      <td>1770</td>\n",
       "      <td>\\r\\n\\r\\n                    FILIP SCHMOLE\\r\\n...</td>\n",
       "      <td>M</td>\n",
       "      <td>PORTLAND</td>\n",
       "      <td>OR</td>\n",
       "      <td>18:13</td>\n",
       "      <td>18:14]</td>\n",
       "    </tr>\n",
       "    <tr>\n",
       "      <th>8</th>\n",
       "      <td>[4</td>\n",
       "      <td>2584</td>\n",
       "      <td>\\r\\n\\r\\n                    TRENTON C ROLLING...</td>\n",
       "      <td>M</td>\n",
       "      <td>PORTLAND</td>\n",
       "      <td>OR</td>\n",
       "      <td>18:32</td>\n",
       "      <td>18:35]</td>\n",
       "    </tr>\n",
       "    <tr>\n",
       "      <th>9</th>\n",
       "      <td>[5</td>\n",
       "      <td>2688</td>\n",
       "      <td>\\r\\n\\r\\n                    YEAN-AN LIAO\\r\\n\\...</td>\n",
       "      <td>M</td>\n",
       "      <td>HILLSBORO</td>\n",
       "      <td>OR</td>\n",
       "      <td>19:12</td>\n",
       "      <td>19:18]</td>\n",
       "    </tr>\n",
       "  </tbody>\n",
       "</table>\n",
       "</div>"
      ],
      "text/plain": [
       "             0       1                                                  2  \\\n",
       "0           []    None                                               None   \n",
       "1  [Finishers:   1458]                                               None   \n",
       "2       [Male:    771]                                               None   \n",
       "3     [Female:    687]                                               None   \n",
       "4           []    None                                               None   \n",
       "5           [1    2320   \\r\\n\\r\\n                    DANIEL M HINCKLEY...   \n",
       "6           [2    2335   \\r\\n\\r\\n                    KORY F GRAY\\r\\n\\r...   \n",
       "7           [3    1770   \\r\\n\\r\\n                    FILIP SCHMOLE\\r\\n...   \n",
       "8           [4    2584   \\r\\n\\r\\n                    TRENTON C ROLLING...   \n",
       "9           [5    2688   \\r\\n\\r\\n                    YEAN-AN LIAO\\r\\n\\...   \n",
       "\n",
       "      3           4     5       6        7  \n",
       "0  None        None  None    None     None  \n",
       "1  None        None  None    None     None  \n",
       "2  None        None  None    None     None  \n",
       "3  None        None  None    None     None  \n",
       "4  None        None  None    None     None  \n",
       "5     M   HILLSBORO    OR   16:42   16:44]  \n",
       "6     M   HILLSBORO    OR   17:34   17:35]  \n",
       "7     M    PORTLAND    OR   18:13   18:14]  \n",
       "8     M    PORTLAND    OR   18:32   18:35]  \n",
       "9     M   HILLSBORO    OR   19:12   19:18]  "
      ]
     },
     "execution_count": 29,
     "metadata": {},
     "output_type": "execute_result"
    }
   ],
   "source": [
    "# Plit data by commna\n",
    "df1 = df[0].str.split(',', expand=True)\n",
    "df1.head(10)\n"
   ]
  },
  {
   "cell_type": "code",
   "execution_count": 30,
   "id": "77b27677-e08b-446d-a3cb-0f394e859d05",
   "metadata": {},
   "outputs": [
    {
     "data": {
      "text/html": [
       "<div>\n",
       "<style scoped>\n",
       "    .dataframe tbody tr th:only-of-type {\n",
       "        vertical-align: middle;\n",
       "    }\n",
       "\n",
       "    .dataframe tbody tr th {\n",
       "        vertical-align: top;\n",
       "    }\n",
       "\n",
       "    .dataframe thead th {\n",
       "        text-align: right;\n",
       "    }\n",
       "</style>\n",
       "<table border=\"1\" class=\"dataframe\">\n",
       "  <thead>\n",
       "    <tr style=\"text-align: right;\">\n",
       "      <th></th>\n",
       "      <th>0</th>\n",
       "      <th>1</th>\n",
       "      <th>2</th>\n",
       "      <th>3</th>\n",
       "      <th>4</th>\n",
       "      <th>5</th>\n",
       "      <th>6</th>\n",
       "      <th>7</th>\n",
       "    </tr>\n",
       "  </thead>\n",
       "  <tbody>\n",
       "    <tr>\n",
       "      <th>0</th>\n",
       "      <td>]</td>\n",
       "      <td>None</td>\n",
       "      <td>None</td>\n",
       "      <td>None</td>\n",
       "      <td>None</td>\n",
       "      <td>None</td>\n",
       "      <td>None</td>\n",
       "      <td>None</td>\n",
       "    </tr>\n",
       "    <tr>\n",
       "      <th>1</th>\n",
       "      <td>Finishers:</td>\n",
       "      <td>1458]</td>\n",
       "      <td>None</td>\n",
       "      <td>None</td>\n",
       "      <td>None</td>\n",
       "      <td>None</td>\n",
       "      <td>None</td>\n",
       "      <td>None</td>\n",
       "    </tr>\n",
       "    <tr>\n",
       "      <th>2</th>\n",
       "      <td>Male:</td>\n",
       "      <td>771]</td>\n",
       "      <td>None</td>\n",
       "      <td>None</td>\n",
       "      <td>None</td>\n",
       "      <td>None</td>\n",
       "      <td>None</td>\n",
       "      <td>None</td>\n",
       "    </tr>\n",
       "    <tr>\n",
       "      <th>3</th>\n",
       "      <td>Female:</td>\n",
       "      <td>687]</td>\n",
       "      <td>None</td>\n",
       "      <td>None</td>\n",
       "      <td>None</td>\n",
       "      <td>None</td>\n",
       "      <td>None</td>\n",
       "      <td>None</td>\n",
       "    </tr>\n",
       "    <tr>\n",
       "      <th>4</th>\n",
       "      <td>]</td>\n",
       "      <td>None</td>\n",
       "      <td>None</td>\n",
       "      <td>None</td>\n",
       "      <td>None</td>\n",
       "      <td>None</td>\n",
       "      <td>None</td>\n",
       "      <td>None</td>\n",
       "    </tr>\n",
       "    <tr>\n",
       "      <th>5</th>\n",
       "      <td>1</td>\n",
       "      <td>2320</td>\n",
       "      <td>\\r\\n\\r\\n                    DANIEL M HINCKLEY...</td>\n",
       "      <td>M</td>\n",
       "      <td>HILLSBORO</td>\n",
       "      <td>OR</td>\n",
       "      <td>16:42</td>\n",
       "      <td>16:44]</td>\n",
       "    </tr>\n",
       "    <tr>\n",
       "      <th>6</th>\n",
       "      <td>2</td>\n",
       "      <td>2335</td>\n",
       "      <td>\\r\\n\\r\\n                    KORY F GRAY\\r\\n\\r...</td>\n",
       "      <td>M</td>\n",
       "      <td>HILLSBORO</td>\n",
       "      <td>OR</td>\n",
       "      <td>17:34</td>\n",
       "      <td>17:35]</td>\n",
       "    </tr>\n",
       "    <tr>\n",
       "      <th>7</th>\n",
       "      <td>3</td>\n",
       "      <td>1770</td>\n",
       "      <td>\\r\\n\\r\\n                    FILIP SCHMOLE\\r\\n...</td>\n",
       "      <td>M</td>\n",
       "      <td>PORTLAND</td>\n",
       "      <td>OR</td>\n",
       "      <td>18:13</td>\n",
       "      <td>18:14]</td>\n",
       "    </tr>\n",
       "    <tr>\n",
       "      <th>8</th>\n",
       "      <td>4</td>\n",
       "      <td>2584</td>\n",
       "      <td>\\r\\n\\r\\n                    TRENTON C ROLLING...</td>\n",
       "      <td>M</td>\n",
       "      <td>PORTLAND</td>\n",
       "      <td>OR</td>\n",
       "      <td>18:32</td>\n",
       "      <td>18:35]</td>\n",
       "    </tr>\n",
       "    <tr>\n",
       "      <th>9</th>\n",
       "      <td>5</td>\n",
       "      <td>2688</td>\n",
       "      <td>\\r\\n\\r\\n                    YEAN-AN LIAO\\r\\n\\...</td>\n",
       "      <td>M</td>\n",
       "      <td>HILLSBORO</td>\n",
       "      <td>OR</td>\n",
       "      <td>19:12</td>\n",
       "      <td>19:18]</td>\n",
       "    </tr>\n",
       "  </tbody>\n",
       "</table>\n",
       "</div>"
      ],
      "text/plain": [
       "            0       1                                                  2  \\\n",
       "0           ]    None                                               None   \n",
       "1  Finishers:   1458]                                               None   \n",
       "2       Male:    771]                                               None   \n",
       "3     Female:    687]                                               None   \n",
       "4           ]    None                                               None   \n",
       "5           1    2320   \\r\\n\\r\\n                    DANIEL M HINCKLEY...   \n",
       "6           2    2335   \\r\\n\\r\\n                    KORY F GRAY\\r\\n\\r...   \n",
       "7           3    1770   \\r\\n\\r\\n                    FILIP SCHMOLE\\r\\n...   \n",
       "8           4    2584   \\r\\n\\r\\n                    TRENTON C ROLLING...   \n",
       "9           5    2688   \\r\\n\\r\\n                    YEAN-AN LIAO\\r\\n\\...   \n",
       "\n",
       "      3           4     5       6        7  \n",
       "0  None        None  None    None     None  \n",
       "1  None        None  None    None     None  \n",
       "2  None        None  None    None     None  \n",
       "3  None        None  None    None     None  \n",
       "4  None        None  None    None     None  \n",
       "5     M   HILLSBORO    OR   16:42   16:44]  \n",
       "6     M   HILLSBORO    OR   17:34   17:35]  \n",
       "7     M    PORTLAND    OR   18:13   18:14]  \n",
       "8     M    PORTLAND    OR   18:32   18:35]  \n",
       "9     M   HILLSBORO    OR   19:12   19:18]  "
      ]
     },
     "execution_count": 30,
     "metadata": {},
     "output_type": "execute_result"
    }
   ],
   "source": [
    "df1[0] = df1[0].str.strip('[')\n",
    "df1.head(10)"
   ]
  },
  {
   "cell_type": "code",
   "execution_count": 34,
   "id": "bf1fb48e-1293-4b56-9207-da3555d22c79",
   "metadata": {},
   "outputs": [
    {
     "name": "stdout",
     "output_type": "stream",
     "text": [
      "<class 'pandas.core.frame.DataFrame'>\n",
      "RangeIndex: 1463 entries, 0 to 1462\n",
      "Data columns (total 8 columns):\n",
      " #   Column  Non-Null Count  Dtype \n",
      "---  ------  --------------  ----- \n",
      " 0   0       1463 non-null   object\n",
      " 1   1       1461 non-null   object\n",
      " 2   2       1458 non-null   object\n",
      " 3   3       1458 non-null   object\n",
      " 4   4       1458 non-null   object\n",
      " 5   5       1458 non-null   object\n",
      " 6   6       1458 non-null   object\n",
      " 7   7       1458 non-null   object\n",
      "dtypes: object(8)\n",
      "memory usage: 91.6+ KB\n"
     ]
    },
    {
     "data": {
      "text/plain": [
       "(1463, 8)"
      ]
     },
     "execution_count": 34,
     "metadata": {},
     "output_type": "execute_result"
    }
   ],
   "source": [
    "df1.info()\n",
    "df1.shape"
   ]
  },
  {
   "cell_type": "code",
   "execution_count": null,
   "id": "82b2d4c3-052e-4ac2-a8f6-31f61514dcf0",
   "metadata": {},
   "outputs": [],
   "source": []
  }
 ],
 "metadata": {
  "kernelspec": {
   "display_name": "Python 3 (ipykernel)",
   "language": "python",
   "name": "python3"
  },
  "language_info": {
   "codemirror_mode": {
    "name": "ipython",
    "version": 3
   },
   "file_extension": ".py",
   "mimetype": "text/x-python",
   "name": "python",
   "nbconvert_exporter": "python",
   "pygments_lexer": "ipython3",
   "version": "3.11.8"
  }
 },
 "nbformat": 4,
 "nbformat_minor": 5
}
